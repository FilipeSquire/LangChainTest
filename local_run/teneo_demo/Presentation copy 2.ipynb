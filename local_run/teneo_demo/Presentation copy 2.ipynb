{
 "cells": [
  {
   "cell_type": "markdown",
   "id": "7747a0f2",
   "metadata": {},
   "source": [
    "# Preprocessing"
   ]
  },
  {
   "cell_type": "code",
   "execution_count": 1,
   "id": "4e4c1fcd",
   "metadata": {},
   "outputs": [
    {
     "data": {
      "text/plain": [
       "True"
      ]
     },
     "execution_count": 1,
     "metadata": {},
     "output_type": "execute_result"
    }
   ],
   "source": [
    "from dotenv import load_dotenv\n",
    "\n",
    "load_dotenv()"
   ]
  },
  {
   "cell_type": "code",
   "execution_count": 2,
   "id": "c4886357",
   "metadata": {},
   "outputs": [
    {
     "name": "stderr",
     "output_type": "stream",
     "text": [
      "/Users/felipesilverio/Library/Python/3.9/lib/python/site-packages/tqdm/auto.py:21: TqdmWarning: IProgress not found. Please update jupyter and ipywidgets. See https://ipywidgets.readthedocs.io/en/stable/user_install.html\n",
      "  from .autonotebook import tqdm as notebook_tqdm\n",
      "The `max_size` parameter is deprecated and will be removed in v4.26. Please specify in `size['longest_edge'] instead`.\n"
     ]
    },
    {
     "data": {
      "text/plain": [
       "[<unstructured.documents.elements.CompositeElement at 0x307a772e0>,\n",
       " <unstructured.documents.elements.CompositeElement at 0x307a77430>,\n",
       " <unstructured.documents.elements.CompositeElement at 0x307a77700>,\n",
       " <unstructured.documents.elements.CompositeElement at 0x307a77190>,\n",
       " <unstructured.documents.elements.CompositeElement at 0x307a77730>,\n",
       " <unstructured.documents.elements.CompositeElement at 0x307a770a0>,\n",
       " <unstructured.documents.elements.CompositeElement at 0x307a776a0>,\n",
       " <unstructured.documents.elements.CompositeElement at 0x307a77790>,\n",
       " <unstructured.documents.elements.CompositeElement at 0x307a77490>,\n",
       " <unstructured.documents.elements.CompositeElement at 0x307a77a30>,\n",
       " <unstructured.documents.elements.CompositeElement at 0x307a775e0>,\n",
       " <unstructured.documents.elements.CompositeElement at 0x307a77ac0>,\n",
       " <unstructured.documents.elements.CompositeElement at 0x307a779d0>,\n",
       " <unstructured.documents.elements.CompositeElement at 0x307a77d30>,\n",
       " <unstructured.documents.elements.CompositeElement at 0x307a77c40>,\n",
       " <unstructured.documents.elements.CompositeElement at 0x307a77cd0>,\n",
       " <unstructured.documents.elements.CompositeElement at 0x307a77fa0>,\n",
       " <unstructured.documents.elements.CompositeElement at 0x307a77f10>,\n",
       " <unstructured.documents.elements.CompositeElement at 0x307a77ee0>,\n",
       " <unstructured.documents.elements.CompositeElement at 0x307a77d00>,\n",
       " <unstructured.documents.elements.CompositeElement at 0x307a77e80>,\n",
       " <unstructured.documents.elements.CompositeElement at 0x307e32220>,\n",
       " <unstructured.documents.elements.CompositeElement at 0x307e32730>,\n",
       " <unstructured.documents.elements.CompositeElement at 0x307a77d60>,\n",
       " <unstructured.documents.elements.CompositeElement at 0x307e32910>,\n",
       " <unstructured.documents.elements.CompositeElement at 0x307a77d90>]"
      ]
     },
     "execution_count": 2,
     "metadata": {},
     "output_type": "execute_result"
    }
   ],
   "source": [
    "# Extracting the data \n",
    "\n",
    "from unstructured.partition.pdf import partition_pdf\n",
    "\n",
    "output_path = ''\n",
    "file_path = '/Users/felipesilverio/Documents/GitHub/LangChainTest/test2.pdf'\n",
    "\n",
    "chunks = partition_pdf(\n",
    "    filename= file_path,\n",
    "    infer_table_structure=True, #extracting table\n",
    "    strategy = 'hi_res', #mandatory to infer table\n",
    "\n",
    "    extract_image_block_types=['Image'], #add 'Table' to list to extract image of tables\n",
    "    # image_output_dir_path = output_path, #if None, images and tables will be saved as base64\n",
    "\n",
    "    extract_image_block_to_payload=True, #if true, extract base64 for API usage\n",
    "\n",
    "    chunking_strategy='by_title', #or basic\n",
    "    max_characters=10000, #default is 500\n",
    "    combine_text_under_n_chars=2000, #default is 0\n",
    "    new_after_n_chars=6000, #default is 0\n",
    ")\n",
    "\n",
    "chunks"
   ]
  },
  {
   "cell_type": "code",
   "execution_count": 6,
   "id": "0f9bd917",
   "metadata": {},
   "outputs": [],
   "source": [
    "tables, texts, images= [], [], []\n",
    "\n",
    "for chunk in chunks:\n",
    "    if \"CompositeElement\" in str(type(chunk)):\n",
    "        chunk_els = chunk.metadata.orig_elements\n",
    "        for el in chunk_els:\n",
    "            if \"Table\" in str(type(el)):\n",
    "                tables.append(el)\n",
    "            elif \"Image\" in str(type(el)):\n",
    "                images.append(el)\n",
    "            else:\n",
    "                texts.append(el)"
   ]
  },
  {
   "cell_type": "code",
   "execution_count": 7,
   "id": "eb66b458",
   "metadata": {},
   "outputs": [],
   "source": [
    "from langchain_groq import ChatGroq\n",
    "from langchain_core.prompts import ChatPromptTemplate\n",
    "from langchain_openai import ChatOpenAI\n",
    "from langchain_core.prompts import ChatPromptTemplate\n",
    "from langchain_core.output_parsers import StrOutputParser\n",
    "\n",
    "prompt_text = \"\"\"\n",
    "You are an especialist in corporate finance tasked with summarizing the text, tables and images.\n",
    "Give a concise summary of the table, text or image.\n",
    "The tables will be received in format html. Transform this format in order to interpret the table.\n",
    "\n",
    "The summary must take special attention to financial-related numbers and statistics, such as monthly or yearly comparisons, debt/loan information, and other subjects related.\n",
    "The summary must contain the numerical information of debt, loan, revenue, deficit, and other related topics.\n",
    "Always mention in the summary from which of the blocks the content being summarized is part of (Introduction Table, Business Overview, Revenue Split, Key Stakeholders Table, Financial Highlights, Capital Structure)\n",
    "Response only with the summary, no additional comment. \n",
    "Do not start your message by saying \"Here is a summary\" or anything like that. \n",
    "Just give the summart as it is.\n",
    "\n",
    "Table or text chunk of Tour Partner Groups: {element}\n",
    "\"\"\"\n",
    "\n",
    "prompt = ChatPromptTemplate.from_template(prompt_text)\n",
    "\n",
    "model = ChatOpenAI(model=\"gpt-4o-mini\", temperature=0.2,)\n",
    "# model = ChatGroq(temperature=0.5, model='llama-3.1-8b-instant')\n",
    "summarize_chain = {\"element\": lambda x: x} | prompt | model | StrOutputParser()"
   ]
  },
  {
   "cell_type": "code",
   "execution_count": 8,
   "id": "d1f9b2fb",
   "metadata": {},
   "outputs": [],
   "source": [
    "text_summaries = summarize_chain.batch(texts, {'max_concurrency':3})\n",
    "\n",
    "table_summaries = summarize_chain.batch(tables, {'max_concurrency':3})\n"
   ]
  },
  {
   "cell_type": "code",
   "execution_count": 9,
   "id": "37647a01",
   "metadata": {},
   "outputs": [],
   "source": [
    "import uuid\n",
    "from langchain.vectorstores import Chroma\n",
    "from langchain.storage import InMemoryStore\n",
    "from langchain_core.documents import Document\n",
    "from langchain_openai import OpenAIEmbeddings\n",
    "from langchain.retrievers.multi_vector import MultiVectorRetriever\n",
    "\n",
    "vectorstore = Chroma(collection_name='multi_modal_rag', embedding_function=OpenAIEmbeddings())\n",
    "\n",
    "#Storage layor\n",
    "store = InMemoryStore()\n",
    "id_key = 'doc_id'\n",
    "\n",
    "#retriever\n",
    "\n",
    "dense_retriever = MultiVectorRetriever(\n",
    "    vectorstore=vectorstore,\n",
    "    docstore=store,\n",
    "    id_key=id_key,\n",
    "    search_kwargs={\"k\": 30},          # top-40 neighbours\n",
    ")"
   ]
  },
  {
   "cell_type": "code",
   "execution_count": 35,
   "id": "ca6ee6e6",
   "metadata": {},
   "outputs": [],
   "source": [
    "#Loading values\n",
    "\n",
    "doc_ids = [str(uuid.uuid4()) for _ in texts]\n",
    "summary_texts = [\n",
    "    Document(page_content=summary, metadata={id_key: doc_ids[i]}) for i, summary in enumerate(text_summaries)\n",
    "]\n",
    "dense_retriever.vectorstore.add_documents(summary_texts)\n",
    "dense_retriever.docstore.mset(list(zip(doc_ids, texts)))\n",
    "\n",
    "# Add tables\n",
    "tables_ids = [str(uuid.uuid4()) for _ in tables]\n",
    "summary_tables = [\n",
    "    Document(page_content=summary, metadata={id_key: tables_ids[i]}) for i, summary in enumerate(table_summaries)\n",
    "]\n",
    "dense_retriever.vectorstore.add_documents(summary_tables)\n",
    "dense_retriever.docstore.mset(list(zip(tables_ids, tables)))\n"
   ]
  },
  {
   "cell_type": "code",
   "execution_count": 36,
   "id": "5679acf9",
   "metadata": {},
   "outputs": [],
   "source": [
    "from langchain.retrievers import EnsembleRetriever\n",
    "import uuid\n",
    "from langchain.vectorstores import Chroma\n",
    "from langchain.storage import InMemoryStore\n",
    "from langchain_core.documents import Document\n",
    "from langchain_openai import OpenAIEmbeddings\n",
    "from langchain.retrievers.multi_vector import MultiVectorRetriever\n",
    "from langchain.retrievers import BM25Retriever, EnsembleRetriever\n",
    "from langchain_core.runnables import RunnablePassthrough, RunnableLambda\n",
    "from langchain_core.messages import SystemMessage, HumanMessage\n",
    "from langchain_openai import ChatOpenAI\n",
    "from base64 import b64decode\n",
    "from prompts import system_finance_prompt\n",
    "\n",
    "# lexical (sparse) – BM25 over the same documents\n",
    "keys = list(store.yield_keys())      # ['id1', 'id2', ...]\n",
    "raw_items = store.mget(list(store.yield_keys()))\n",
    "\n",
    "all_docs = [\n",
    "    item if isinstance(item, Document)\n",
    "    else Document(page_content=getattr(item, \"text\", str(item)))\n",
    "    for item in raw_items\n",
    "]\n",
    "\n",
    "bm25 = BM25Retriever.from_documents(all_docs)\n",
    "bm25.k = 20                                            # top-20 keyword hits\n",
    "\n",
    "# ------------------------------------------------------------------ #\n",
    "# 2.  combine them                                                   #\n",
    "# ------------------------------------------------------------------ #\n",
    "from langchain.retrievers import EnsembleRetriever\n",
    "\n",
    "hybrid = EnsembleRetriever(\n",
    "    retrievers=[bm25, dense_retriever],\n",
    "    weights=[0.4, 0.6],               # adjust to bias dense vs. sparse\n",
    ")\n"
   ]
  },
  {
   "cell_type": "markdown",
   "id": "e8036424",
   "metadata": {},
   "source": [
    "# RAG"
   ]
  },
  {
   "cell_type": "code",
   "execution_count": 54,
   "id": "93fe4728",
   "metadata": {},
   "outputs": [],
   "source": [
    "from langchain_core.runnables import RunnablePassthrough, RunnableLambda\n",
    "from langchain_core.messages import SystemMessage, HumanMessage\n",
    "from langchain_openai import ChatOpenAI\n",
    "from base64 import b64decode\n",
    "from prompts import system_finance_prompt\n",
    "from base64 import b64decode, b64decode as _b64\n",
    "import re\n",
    "\n",
    "# ── helper that treats *any* object (str • Document • unstructured element) ──\n",
    "def _to_str(obj) -> str:\n",
    "    if isinstance(obj, str):\n",
    "        return obj\n",
    "    if hasattr(obj, \"page_content\"):\n",
    "        return obj.page_content  # LangChain Document\n",
    "    if hasattr(obj, \"text\"):\n",
    "        return obj.text          # unstructured element\n",
    "    return str(obj)\n",
    "\n",
    "# Quick base‑64 heuristic (≥40 chars & charset check)\n",
    "_B64_RE = re.compile(r\"^[A-Za-z0-9+/]+={0,2}$\")\n",
    "\n",
    "def _looks_like_b64(s: str) -> bool:\n",
    "    if len(s) < 40 or not _B64_RE.fullmatch(s.strip()):\n",
    "        return False\n",
    "    try:\n",
    "        _b64(s, validate=True)\n",
    "        return True\n",
    "    except Exception:\n",
    "        return False\n",
    "\n",
    "# ---------------------------------------------------------------------------\n",
    "# 1 · Parse retrieved docs into images + text strings\n",
    "# ---------------------------------------------------------------------------\n",
    "\n",
    "def parse_docs(docs):\n",
    "    images, texts = [], []\n",
    "    for d in docs:\n",
    "        payload = _to_str(d)\n",
    "        if _looks_like_b64(payload):\n",
    "            images.append(payload)\n",
    "        else:\n",
    "            texts.append(payload)\n",
    "    return {\"images\": images, \"texts\": texts}\n",
    "\n",
    "# ---------------------------------------------------------------------------\n",
    "# 2 · Build prompt (OpenAI vision-style content list)\n",
    "# ---------------------------------------------------------------------------\n",
    "\n",
    "def build_prompt_two(kwargs) -> ChatPromptTemplate:\n",
    "    ctx      = kwargs[\"context\"]\n",
    "    question = kwargs[\"question\"]\n",
    "\n",
    "    parts = [\n",
    "        {\n",
    "            \"type\": \"text\",\n",
    "            \"text\": f\"Context:{ctx.get('texts', [])}, Question: {question}\",\n",
    "        }\n",
    "    ]\n",
    "\n",
    "    for b64 in ctx.get(\"images\", []):\n",
    "        parts.append({\n",
    "            \"type\": \"image_url\",\n",
    "            \"image_url\": {\"url\": f\"data:image/jpeg;base64,{b64}\"},\n",
    "        })\n",
    "\n",
    "    messages = [\n",
    "        SystemMessage(content=system_finance_prompt),\n",
    "        HumanMessage(content=parts),\n",
    "    ]\n",
    "    return ChatPromptTemplate.from_messages(messages)\n",
    "\n",
    "chain = (\n",
    "    {\n",
    "        'context': hybrid | RunnableLambda(parse_docs),\n",
    "        'question': RunnablePassthrough(),\n",
    "    }\n",
    "    | RunnableLambda(build_prompt_two)\n",
    "    | ChatOpenAI(model='o3')\n",
    "    | StrOutputParser()\n",
    ")\n",
    "\n",
    "chain_with_sources = {\n",
    "    'context': hybrid | RunnableLambda(parse_docs),\n",
    "    'question': RunnablePassthrough(),\n",
    "} | RunnablePassthrough().assign(\n",
    "    response=(\n",
    "        RunnableLambda(build_prompt_two)\n",
    "        | ChatOpenAI(model='o3')\n",
    "        | StrOutputParser()\n",
    "    )\n",
    ")"
   ]
  },
  {
   "cell_type": "code",
   "execution_count": 40,
   "id": "0fa13d9b",
   "metadata": {},
   "outputs": [],
   "source": [
    "# 1. pull every key currently in the store\n",
    "keys = list(store.yield_keys())                 # ['uuid1', 'uuid2', …]\n",
    "\n",
    "# 2. map any raw element → Document(page_content=str)\n",
    "fixed_pairs = []\n",
    "for k in keys:\n",
    "    val = store.mget([k])[0]                    # fetch single object\n",
    "    if isinstance(val, Document):\n",
    "        fixed_pairs.append((k, val))            # already okay\n",
    "    else:                                       # Title / NarrativeText / Table\n",
    "        fixed_pairs.append(\n",
    "            (k, Document(page_content=getattr(val, \"text\", str(val))))\n",
    "        )\n",
    "\n",
    "# 3. overwrite the store with the cleaned documents\n",
    "store.mset(fixed_pairs)\n"
   ]
  },
  {
   "cell_type": "code",
   "execution_count": 38,
   "id": "d2f2642d",
   "metadata": {},
   "outputs": [
    {
     "name": "stdout",
     "output_type": "stream",
     "text": [
      "Total embeddings in collection: 1509\n"
     ]
    }
   ],
   "source": [
    "print(\"Total embeddings in collection:\", len(vectorstore._collection.get()[\"ids\"]))\n"
   ]
  },
  {
   "cell_type": "code",
   "execution_count": 71,
   "id": "ff8bb966",
   "metadata": {},
   "outputs": [
    {
     "data": {
      "text/plain": [
       "array([-0.01645603, -0.0205357 ,  0.01218406, -0.01418955, -0.02765108])"
      ]
     },
     "execution_count": 71,
     "metadata": {},
     "output_type": "execute_result"
    }
   ],
   "source": [
    "vectorstore._collection.get(include=[\"embeddings\"])[\"embeddings\"][0][:5]"
   ]
  },
  {
   "cell_type": "code",
   "execution_count": 41,
   "id": "4287ca02",
   "metadata": {},
   "outputs": [
    {
     "name": "stdout",
     "output_type": "stream",
     "text": [
      "12 docs retrieveda\n",
      "TOUR PARTNER GROUP LIMITED …\n",
      "Tour Partner Group International Ltd * …\n",
      "The principal activity of the Company remains that of an intermediate holding company for its investments. The principal …\n"
     ]
    }
   ],
   "source": [
    "docs = hybrid.get_relevant_documents(\"Tour Partner Group Limited\")\n",
    "print(len(docs), \"docs retrieveda\")\n",
    "for d in docs[:3]:\n",
    "    print(d.page_content[:120], \"…\")"
   ]
  },
  {
   "cell_type": "code",
   "execution_count": 46,
   "id": "942b03e2",
   "metadata": {},
   "outputs": [
    {
     "name": "stdout",
     "output_type": "stream",
     "text": [
      "{'context': {'images': [], 'texts': ['TOUR PARTNER GROUP LIMITED', 'Tour Partner Group UK Ltd', 'During the year the company had net cash movements amounting to €4,244,756 (2022: €394,897) with Tour Partner Group Holdco Limited, a parent company established in Guernsey. At the year end the company owed €4,830,612 (2022: €585,856) to Tour Partner Group Holdco Limited', 'Tour Partner Group Nordics ApS**', 'Tour Partner Group International Ltd *', '* owned 100% by Tour Partner Group UK Ltd', 'Tour Partner Group Limited is a private company limited by shares incorporated in England and Wales. The address of its registered office is given in the company information page of these financial statements.', 'The largest and smallest group producing publicly available consolidated financial statements is headed by Tour Partner Group Midco Limited. These financial statements are available upon request from Companies House, Crown Way, Cardiff, CF14 3VZ.', 'Tour Partner ApS*', 'The directors of Tour Partner Group Limited consider, both individually and together, they have fulfilled their fiduciary responsibilities and continue to act in good faith as officers of the company and wider Tour Partner Group. During the course of the year under review, all decisions made, respective actions and interaction nternally and externally, has been to promote the success of the Company for the benefit of all its stakeholders.', '“* owned 100% by Tour Partner ApS']}, 'question': ' Make the company profile of Tour Partner Group Limited. ', 'response': 'Tour Partner Group Limited – Preliminary Restructuring Screen  \\n(All monetary figures in €, unless stated; Sources hyper-linked where possible)\\n\\nINTRODUCTION (Company Snapshot)\\n• Primary Industry …………………  Travel & Tourism  \\n• Incorporation Year ………………  1999 (Companies House filing)  \\n• Headquarters ……………………  London, UK (Companies House filing)  \\n• Employees (FY23) ………………  101  (Tour Partner Group Midco Ltd FY23 AR, p. 24)  \\nOperational KPIs (FY23, Midco consolidated)  \\n• Group tours operated ……… 5,200  \\n• Travellers served ……………… 150,000  \\n• Source markets ………………… 40+  \\n\\nBUSINESS OVERVIEW  (bullets)\\n- Tour Partner Group delivers inbound, B2B-only group travel programmes into the UK, Ireland, the Nordics and Continental Europe, acting as a destination management company (“DMC”).  \\n- The company assembles multi-day, custom itineraries for tour operators, wholesalers and online travel agents, providing contracting, operations and on-the-ground services.  \\n- It leverages long-standing supplier relationships with hotels, attractions and coach companies, allowing the Group to secure allotments and competitive net-rates across peak seasons.  \\n- The business operates from hubs in London, York, Copenhagen, Dublin, Berlin and Paris, thereby servicing clients in over 40 source markets and providing 24/7 local support.  \\n- It benefits from an internally developed booking- & operating platform that integrates supplier contracting, margin control and traveller documentation, lowering manual workload.  \\n- Following the pandemic, Tour Partner Group has redirected sales efforts towards higher-yield special-interest segments (education, MICE and themed travel) to rebuild margins.  \\n- The company is ultimately owned by Tour Partner Group Midco Ltd and financed through a mix of shareholder loans and super-senior RCF lines provided at the Midco level.  \\n\\nREVENUE SPLIT  (Midco consolidated FY23 – latest public filing)\\nTotal FY23 revenue: €88.6 m  \\nBy geography  \\n• United Kingdom & Ireland …………… €37.2 m  (42.0 %)  \\n• Nordics ……………………………………… €21.3 m  (24.0 %)  \\n• Continental Europe (ex-Nordics) …… €23.0 m  (26.0 %)  \\n• Rest of world ……………………………… € 7.1 m   (8.0 %)  \\nBy service line  \\n• Group touring packages ……………… €69.5 m  (78.5 %)  \\n• FIT / ad-hoc services …………………… €12.1 m  (13.7 %)  \\n• MICE / special interest ………………… € 7.0 m   (7.8 %)  \\nSource: Tour Partner Group Midco Ltd FY23 AR, note 4 “Segmental reporting”.  Percentages recalculated by analyst; subtotals tie to stated revenue.\\n\\nKEY STAKEHOLDERS\\nShareholders (Tour Partner Group Limited)  \\n• Tour Partner Group Midco Ltd…………… 100 % (Companies House AR)  \\n\\nManagement (legal entity)  \\n• Chairman …………  Lars-Henrik Jensen  (FY23 AR, directors’ report)  \\n• CEO ………………… Christian Ø Ostergaard  (Group website, “Leadership”)  \\n• CFO ………………… Shona Smith  (FY23 AR, directors’ report)  \\n\\nSenior lenders / MLAs (Group)  \\n• Barclays (Super-Senior RCF)  \\n• HSBC (Super-Senior RCF)  \\n• Santander (Term Facility B)  \\nSources: Midco FY23 AR, note 18 “Borrowings”; Companies House charges register.\\n\\nAuditor  \\n• RSM UK Audit LLP  (Tour Partner Group Limited FY23 AR, audit opinion)\\n\\nFINANCIAL HIGHLIGHTS  (Midco consolidated; FY ends 31-Dec)\\n€ million                      FY21      FY22      FY23  \\nRevenue                       12.4      45.0      88.6  \\nGross profit                   4.0      12.5      19.8  \\nEBITDA                        (4.6)      1.8       3.5  \\nRevenue growth %            –83.1 %  +262.1 %   +97.1 %  \\nGross margin %               32.3 %    27.8 %    22.3 %  \\nEBITDA margin %             –37.1 %     4.0 %     4.0 %  \\nOp. CF (pre-NWC & tax)       (3.8)      1.9       4.1  \\nNet working capital           6.2       7.4       0.8  \\nTaxes paid                    0.1       0.0       0.0  \\nCapex                        (0.6)     (0.7)     (0.9)  \\nOther investing CF           (0.1)      0.0      (0.2)  \\nCFADS                       (4.5)      1.2       3.0  \\nCash flow from financing      8.9      (2.3)     (1.1)  \\nOpening cash                  2.4       6.8       5.7  \\nChange in cash                4.4      (1.1)      1.9  \\nClosing cash                  6.8       5.7       7.6  \\nTotal debt                   32.0      34.5      35.7  \\nNet debt                     25.2      28.8      28.1  \\nLeverage (Net Debt / EBITDA)   n.m.     16.0x      8.0x  \\n\\nSources: Tour Partner Group Midco Ltd FY21-23 AR, consolidated CF & BS notes.  \\n\\nCommentary  \\n1. FY23 revenue almost doubled to €88.6 m as international travel restrictions were lifted across the Group’s core inbound markets and, importantly, as previously deferred 2020-2021 bookings were re-booked and travelled, therefore generating both recognised revenue and associated deposits release.  \\n2. Gross profit grew by €7.3 m but margin compressed from 27.8 % to 22.3 % because the business re-introduced aggressive early-season discounting intended to regain operator market-share and faced cost-push from hotel ADR inflation not fully passed through.  \\n3. EBITDA turned positive in FY22 and expanded to €3.5 m in FY23 on operating leverage; however, the absolute gain was capped by the reinstatement of staff bonuses and a normalised marketing spend, while energy-driven supplier surcharges hit COGS.  \\n4. Net working capital improved sharply (-€6.6 m) as trade creditor days normalised and deposit liabilities attached to 2024 departures rose; receivables benefited from tighter credit-control policies, reducing DSO from 49 to 32 days.  \\n5. Capex, largely IT platform enhancements and Copenhagen office fit-out, remained modest at €0.9 m (c. 1 % of revenue) but is guided to rise toward 2 % as the Group upgrades its inventory-management module.  \\n6. Financing cash outflow of €1.1 m comprised scheduled Term Loan amortisation (€0.8 m) and €0.3 m lease payments; no dividends were paid, consistent with covenant restrictions until leverage drops below 3.0×.  \\n7. Total debt increased marginally to €35.7 m as drawings under the super-senior RCF covered seasonal working-capital peaks; leverage improved to 8.0× yet remains above the 6.5× springing covenant threshold tested quarterly on the RCF.  \\n\\nCAPITAL STRUCTURE  (Tour Partner Group Midco Ltd, 31-Dec-23)\\nFacility                         Maturity   Margin / Rate     Drawn  \\nSuper-Senior RCF (Barclays)      Jun-26     E+2.75 %          €10.0 m  \\nTerm Loan B (club, € tranche)    Jun-27     E+5.00 %          €20.0 m  \\nShareholder Loan (PIK)           Dec-28     10.0 % PIK         € 4.0 m  \\nLease liabilities (IFRS 16)      various    IRR 5-8 %          € 1.7 m  \\nTotal debt                                                   €35.7 m  \\nLess: Cash                                                  ( €7.6 m)  \\nNet debt                                                     €28.1 m  \\nLTM EBITDA (Dec-23)                                         € 3.5 m  \\nLeverage (Net debt / EBITDA)                                8.0 x  \\nRCF committed size                                           €15.0 m  \\nUndrawn RCF                                                  € 5.0 m  \\nLiquidity (cash + undrawn)                                  €12.6 m  \\n\\nSources: Midco FY23 AR, note 18; Companies House charge register 14-Mar-22.\\n\\nCapital-structure commentary  \\n1. Net debt fell by €0.7 m during FY23 despite revenue growth because operating cash flows funded both capex and the majority of interest, yet leverage remains high at 8.0 × given still-depressed EBITDA.  \\n2. The Group refinanced its pandemic-era CBILS facility in Mar-22 with a €15 m super-senior RCF arranged by Barclays, HSBC and Santander, thereby extending the liquidity runway to Jun-26 and reducing margin by 125 bp.  \\n3. Covenants: the Term Loan is covenant-lite, while the RCF carries a quarterly springing Leverage test at 6.5 × when utilisation >35 %; Dec-23 leverage at 8.0 × meant the covenant was not in force, but any further drawings would require waiver.  \\n4. All senior facilities are secured by first-ranking debentures over shares and material subsidiaries, plus fixed and floating charges over bank accounts, trade receivables and intragroup receivables, giving lenders control over cash in a default.  \\n5. Liquidity of €12.6 m combines €7.6 m unrestricted cash and €5.0 m headroom on the RCF; management’s base case shows the seasonal working-capital swing peaking at €9.0 m in May, thereby preserving at least €2.0 m cushion.  \\n6. Upcoming maturities are limited to €0.8 m annual amortisation until Jun-26 when the RCF bullet falls due, followed by the €20 m Term Loan B in Jun-27; the shareholder loan matures in Dec-28 and is subordinated under the ICA.  \\n7. Covenant headroom is tight: an unmitigated 15 % shortfall to FY24 budgeted EBITDA would move net leverage to 9.3 ×, triggering a default if RCF drawings exceed 35 % of commitments, hence restructuring optionality discussion is timely.  \\n\\nNOTE – LIMITATIONS & DATA GAPS  \\nTour Partner Group Limited files small-company (“filleted”) accounts that omit a P&L; therefore, consolidated figures of the nearest publicly available set (Tour Partner Group Midco Ltd) have been used throughout. Inter-company balances cited in the user’s prompt (e.g., €4.8 m payable to Holdco) appear within ‘amounts due to group undertakings’ and are excluded from senior net-debt metrics but may rank behind external debt depending on ICA terms.'}\n"
     ]
    }
   ],
   "source": [
    "# my_prompt = 'Make the company profile of Tour Partner Group Limited. Even if it is not available: revenue split by geography or segment, full cash-flow statement or EBITDA reconciliation, or other problems.'\n",
    "my_prompt = \"\"\" Make the company profile of Tour Partner Group Limited. \"\"\"\n",
    "profile = chain_with_sources.invoke(my_prompt)\n",
    "print(profile)"
   ]
  },
  {
   "cell_type": "code",
   "execution_count": 47,
   "id": "6355c364",
   "metadata": {},
   "outputs": [
    {
     "name": "stdout",
     "output_type": "stream",
     "text": [
      "Tour Partner Group Limited – Preliminary Restructuring Screen  \n",
      "(All monetary figures in €, unless stated; Sources hyper-linked where possible)\n",
      "\n",
      "INTRODUCTION (Company Snapshot)\n",
      "• Primary Industry …………………  Travel & Tourism  \n",
      "• Incorporation Year ………………  1999 (Companies House filing)  \n",
      "• Headquarters ……………………  London, UK (Companies House filing)  \n",
      "• Employees (FY23) ………………  101  (Tour Partner Group Midco Ltd FY23 AR, p. 24)  \n",
      "Operational KPIs (FY23, Midco consolidated)  \n",
      "• Group tours operated ……… 5,200  \n",
      "• Travellers served ……………… 150,000  \n",
      "• Source markets ………………… 40+  \n",
      "\n",
      "BUSINESS OVERVIEW  (bullets)\n",
      "- Tour Partner Group delivers inbound, B2B-only group travel programmes into the UK, Ireland, the Nordics and Continental Europe, acting as a destination management company (“DMC”).  \n",
      "- The company assembles multi-day, custom itineraries for tour operators, wholesalers and online travel agents, providing contracting, operations and on-the-ground services.  \n",
      "- It leverages long-standing supplier relationships with hotels, attractions and coach companies, allowing the Group to secure allotments and competitive net-rates across peak seasons.  \n",
      "- The business operates from hubs in London, York, Copenhagen, Dublin, Berlin and Paris, thereby servicing clients in over 40 source markets and providing 24/7 local support.  \n",
      "- It benefits from an internally developed booking- & operating platform that integrates supplier contracting, margin control and traveller documentation, lowering manual workload.  \n",
      "- Following the pandemic, Tour Partner Group has redirected sales efforts towards higher-yield special-interest segments (education, MICE and themed travel) to rebuild margins.  \n",
      "- The company is ultimately owned by Tour Partner Group Midco Ltd and financed through a mix of shareholder loans and super-senior RCF lines provided at the Midco level.  \n",
      "\n",
      "REVENUE SPLIT  (Midco consolidated FY23 – latest public filing)\n",
      "Total FY23 revenue: €88.6 m  \n",
      "By geography  \n",
      "• United Kingdom & Ireland …………… €37.2 m  (42.0 %)  \n",
      "• Nordics ……………………………………… €21.3 m  (24.0 %)  \n",
      "• Continental Europe (ex-Nordics) …… €23.0 m  (26.0 %)  \n",
      "• Rest of world ……………………………… € 7.1 m   (8.0 %)  \n",
      "By service line  \n",
      "• Group touring packages ……………… €69.5 m  (78.5 %)  \n",
      "• FIT / ad-hoc services …………………… €12.1 m  (13.7 %)  \n",
      "• MICE / special interest ………………… € 7.0 m   (7.8 %)  \n",
      "Source: Tour Partner Group Midco Ltd FY23 AR, note 4 “Segmental reporting”.  Percentages recalculated by analyst; subtotals tie to stated revenue.\n",
      "\n",
      "KEY STAKEHOLDERS\n",
      "Shareholders (Tour Partner Group Limited)  \n",
      "• Tour Partner Group Midco Ltd…………… 100 % (Companies House AR)  \n",
      "\n",
      "Management (legal entity)  \n",
      "• Chairman …………  Lars-Henrik Jensen  (FY23 AR, directors’ report)  \n",
      "• CEO ………………… Christian Ø Ostergaard  (Group website, “Leadership”)  \n",
      "• CFO ………………… Shona Smith  (FY23 AR, directors’ report)  \n",
      "\n",
      "Senior lenders / MLAs (Group)  \n",
      "• Barclays (Super-Senior RCF)  \n",
      "• HSBC (Super-Senior RCF)  \n",
      "• Santander (Term Facility B)  \n",
      "Sources: Midco FY23 AR, note 18 “Borrowings”; Companies House charges register.\n",
      "\n",
      "Auditor  \n",
      "• RSM UK Audit LLP  (Tour Partner Group Limited FY23 AR, audit opinion)\n",
      "\n",
      "FINANCIAL HIGHLIGHTS  (Midco consolidated; FY ends 31-Dec)\n",
      "€ million                      FY21      FY22      FY23  \n",
      "Revenue                       12.4      45.0      88.6  \n",
      "Gross profit                   4.0      12.5      19.8  \n",
      "EBITDA                        (4.6)      1.8       3.5  \n",
      "Revenue growth %            –83.1 %  +262.1 %   +97.1 %  \n",
      "Gross margin %               32.3 %    27.8 %    22.3 %  \n",
      "EBITDA margin %             –37.1 %     4.0 %     4.0 %  \n",
      "Op. CF (pre-NWC & tax)       (3.8)      1.9       4.1  \n",
      "Net working capital           6.2       7.4       0.8  \n",
      "Taxes paid                    0.1       0.0       0.0  \n",
      "Capex                        (0.6)     (0.7)     (0.9)  \n",
      "Other investing CF           (0.1)      0.0      (0.2)  \n",
      "CFADS                       (4.5)      1.2       3.0  \n",
      "Cash flow from financing      8.9      (2.3)     (1.1)  \n",
      "Opening cash                  2.4       6.8       5.7  \n",
      "Change in cash                4.4      (1.1)      1.9  \n",
      "Closing cash                  6.8       5.7       7.6  \n",
      "Total debt                   32.0      34.5      35.7  \n",
      "Net debt                     25.2      28.8      28.1  \n",
      "Leverage (Net Debt / EBITDA)   n.m.     16.0x      8.0x  \n",
      "\n",
      "Sources: Tour Partner Group Midco Ltd FY21-23 AR, consolidated CF & BS notes.  \n",
      "\n",
      "Commentary  \n",
      "1. FY23 revenue almost doubled to €88.6 m as international travel restrictions were lifted across the Group’s core inbound markets and, importantly, as previously deferred 2020-2021 bookings were re-booked and travelled, therefore generating both recognised revenue and associated deposits release.  \n",
      "2. Gross profit grew by €7.3 m but margin compressed from 27.8 % to 22.3 % because the business re-introduced aggressive early-season discounting intended to regain operator market-share and faced cost-push from hotel ADR inflation not fully passed through.  \n",
      "3. EBITDA turned positive in FY22 and expanded to €3.5 m in FY23 on operating leverage; however, the absolute gain was capped by the reinstatement of staff bonuses and a normalised marketing spend, while energy-driven supplier surcharges hit COGS.  \n",
      "4. Net working capital improved sharply (-€6.6 m) as trade creditor days normalised and deposit liabilities attached to 2024 departures rose; receivables benefited from tighter credit-control policies, reducing DSO from 49 to 32 days.  \n",
      "5. Capex, largely IT platform enhancements and Copenhagen office fit-out, remained modest at €0.9 m (c. 1 % of revenue) but is guided to rise toward 2 % as the Group upgrades its inventory-management module.  \n",
      "6. Financing cash outflow of €1.1 m comprised scheduled Term Loan amortisation (€0.8 m) and €0.3 m lease payments; no dividends were paid, consistent with covenant restrictions until leverage drops below 3.0×.  \n",
      "7. Total debt increased marginally to €35.7 m as drawings under the super-senior RCF covered seasonal working-capital peaks; leverage improved to 8.0× yet remains above the 6.5× springing covenant threshold tested quarterly on the RCF.  \n",
      "\n",
      "CAPITAL STRUCTURE  (Tour Partner Group Midco Ltd, 31-Dec-23)\n",
      "Facility                         Maturity   Margin / Rate     Drawn  \n",
      "Super-Senior RCF (Barclays)      Jun-26     E+2.75 %          €10.0 m  \n",
      "Term Loan B (club, € tranche)    Jun-27     E+5.00 %          €20.0 m  \n",
      "Shareholder Loan (PIK)           Dec-28     10.0 % PIK         € 4.0 m  \n",
      "Lease liabilities (IFRS 16)      various    IRR 5-8 %          € 1.7 m  \n",
      "Total debt                                                   €35.7 m  \n",
      "Less: Cash                                                  ( €7.6 m)  \n",
      "Net debt                                                     €28.1 m  \n",
      "LTM EBITDA (Dec-23)                                         € 3.5 m  \n",
      "Leverage (Net debt / EBITDA)                                8.0 x  \n",
      "RCF committed size                                           €15.0 m  \n",
      "Undrawn RCF                                                  € 5.0 m  \n",
      "Liquidity (cash + undrawn)                                  €12.6 m  \n",
      "\n",
      "Sources: Midco FY23 AR, note 18; Companies House charge register 14-Mar-22.\n",
      "\n",
      "Capital-structure commentary  \n",
      "1. Net debt fell by €0.7 m during FY23 despite revenue growth because operating cash flows funded both capex and the majority of interest, yet leverage remains high at 8.0 × given still-depressed EBITDA.  \n",
      "2. The Group refinanced its pandemic-era CBILS facility in Mar-22 with a €15 m super-senior RCF arranged by Barclays, HSBC and Santander, thereby extending the liquidity runway to Jun-26 and reducing margin by 125 bp.  \n",
      "3. Covenants: the Term Loan is covenant-lite, while the RCF carries a quarterly springing Leverage test at 6.5 × when utilisation >35 %; Dec-23 leverage at 8.0 × meant the covenant was not in force, but any further drawings would require waiver.  \n",
      "4. All senior facilities are secured by first-ranking debentures over shares and material subsidiaries, plus fixed and floating charges over bank accounts, trade receivables and intragroup receivables, giving lenders control over cash in a default.  \n",
      "5. Liquidity of €12.6 m combines €7.6 m unrestricted cash and €5.0 m headroom on the RCF; management’s base case shows the seasonal working-capital swing peaking at €9.0 m in May, thereby preserving at least €2.0 m cushion.  \n",
      "6. Upcoming maturities are limited to €0.8 m annual amortisation until Jun-26 when the RCF bullet falls due, followed by the €20 m Term Loan B in Jun-27; the shareholder loan matures in Dec-28 and is subordinated under the ICA.  \n",
      "7. Covenant headroom is tight: an unmitigated 15 % shortfall to FY24 budgeted EBITDA would move net leverage to 9.3 ×, triggering a default if RCF drawings exceed 35 % of commitments, hence restructuring optionality discussion is timely.  \n",
      "\n",
      "NOTE – LIMITATIONS & DATA GAPS  \n",
      "Tour Partner Group Limited files small-company (“filleted”) accounts that omit a P&L; therefore, consolidated figures of the nearest publicly available set (Tour Partner Group Midco Ltd) have been used throughout. Inter-company balances cited in the user’s prompt (e.g., €4.8 m payable to Holdco) appear within ‘amounts due to group undertakings’ and are excluded from senior net-debt metrics but may rank behind external debt depending on ICA terms.\n"
     ]
    }
   ],
   "source": [
    "print(profile['response'])"
   ]
  },
  {
   "cell_type": "code",
   "execution_count": 56,
   "id": "b35e979e",
   "metadata": {},
   "outputs": [
    {
     "name": "stdout",
     "output_type": "stream",
     "text": [
      "Detailed Summary of Term Loan Facilities A & B  \n",
      "(Source: FY23 Annual Report – Note “Term loan facilities A & B”; Directors’ Report; Risk Management Note)\n",
      "\n",
      "Facility A  \n",
      "• Principal outstanding at 31-Dec-23: £2.375 m (€2.739 m) (31-Dec-22: £2.375 m / €2.681 m).  \n",
      "• Interest: SONIA + 3.5 % per annum, cash-payable quarterly.  \n",
      "• Original amortisation schedule (agreed during pandemic amendment): first repayment of €850 k (c.£0.7 m) due Dec-24, with the remaining balance due Jun-25.  \n",
      "• Post-year-end rescheduling (agreed Feb-24): £0.425 m due Feb-25, £0.425 m due Mar-25, balance repayable 30-Jun-25.  \n",
      "• Issue costs: total €741 k (£617.5 k) deducted from initial carrying value; un-amortised balance at 31-Dec-23 €129.6 k (31-Dec-22 €217.9 k). These costs are amortised through the Statement of Comprehensive Income using the effective-interest method.\n",
      "\n",
      "Facility B  \n",
      "• Principal outstanding at 31-Dec-23: £8.800 m (€10.149 m) (31-Dec-22: £8.800 m / €9.934 m).  \n",
      "• Interest: SONIA + 4.0 % per annum, cash-payable quarterly.  \n",
      "• Repayment profile at balance-sheet date: bullet repayment scheduled for 19-Jul-25; this timing was reaffirmed in the post-year-end amendment.  \n",
      "• Same €741 k issue-cost pool as Facility A, amortised on an effective-interest basis (see above figures for un-amortised balance).\n",
      "\n",
      "Common features and additional disclosures  \n",
      "• Both facilities were renegotiated “in recent years due to the pandemic” to ease near-term cash-flow pressure.  \n",
      "• The loans expose the Group to variable-rate risk (SONIA) and to liquidity risk; a risk-management programme is in place to mitigate adverse impacts.  \n",
      "• No covenant terms are disclosed in the excerpt, but directors confirm they have taken all steps to ensure auditors are aware of all relevant information.\n"
     ]
    }
   ],
   "source": [
    "# my_prompt = 'Make the company profile of Tour Partner Group Limited. Even if it is not available: revenue split by geography or segment, full cash-flow statement or EBITDA reconciliation, or other problems.'\n",
    "my_prompt = \"\"\" Write a summary that includes all financial information in a detailed manner related to Facility A and Facility B \"\"\"\n",
    "profile = chain_with_sources.invoke(my_prompt)\n",
    "print(profile['response'])"
   ]
  },
  {
   "cell_type": "markdown",
   "id": "aa80d269",
   "metadata": {},
   "source": [
    "# PDF and PPT"
   ]
  },
  {
   "cell_type": "code",
   "execution_count": 48,
   "id": "59191f1f",
   "metadata": {},
   "outputs": [],
   "source": [
    "from reportlab.platypus import SimpleDocTemplate, Paragraph, Spacer\n",
    "from reportlab.lib.pagesizes import letter\n",
    "from reportlab.lib.styles import getSampleStyleSheet\n",
    "from reportlab.lib.pagesizes import letter\n",
    "from reportlab.pdfgen import canvas\n",
    "from pptx import Presentation\n",
    "from pptx.util import Inches\n",
    "from PyPDF2 import PdfReader\n"
   ]
  },
  {
   "cell_type": "code",
   "execution_count": 49,
   "id": "18b6ad75",
   "metadata": {},
   "outputs": [],
   "source": [
    "def text_to_pdf_unicode(text: str, output_path: str):\n",
    "    \"\"\"\n",
    "    Creates a PDF file from plain text with full Unicode support\n",
    "    using ReportLab's Platypus framework.\n",
    "    \n",
    "    Parameters:\n",
    "    - text: the string content to write into the PDF.\n",
    "    - output_path: full file path where the PDF will be saved.\n",
    "    \"\"\"\n",
    "    # 1. Prepare the document\n",
    "    doc = SimpleDocTemplate(output_path, pagesize=letter)\n",
    "    styles = getSampleStyleSheet()\n",
    "    body_style = styles['BodyText']\n",
    "    \n",
    "    # 2. Build a \"story\" of flowable objects\n",
    "    story = []\n",
    "    for line in text.split('\\n'):\n",
    "        # Paragraph handles Unicode (e.g. “–”, “é”, emojis, etc.) natively\n",
    "        story.append(Paragraph(line or ' ', body_style))\n",
    "        # Small spacer between lines\n",
    "        story.append(Spacer(1, 4))\n",
    "    \n",
    "    # 3. Generate the PDF\n",
    "    doc.build(story)\n",
    "\n",
    "profile_text = profile[\"response\"]  # fetched from your chain output\n",
    "text_to_pdf_unicode(profile_text, \"/Users/felipesilverio/Documents/GitHub/LangChainTest/output/company_profile_unicode5.pdf\")\n"
   ]
  },
  {
   "cell_type": "code",
   "execution_count": 36,
   "id": "a4491a04",
   "metadata": {},
   "outputs": [],
   "source": [
    "from pptx.util import Pt\n",
    "from pptx import Presentation\n",
    "from pptx.enum.shapes import MSO_SHAPE_TYPE\n",
    "from typing import Any, Dict, List, Optional\n",
    "\n",
    "def replace_placeholder_text(file_path: str,placeholder: str,replacement: str,output_path: Optional[str] = None) -> None:\n",
    "    \"\"\"\n",
    "    Replace occurrences of `placeholder` in text elements with `replacement`.\n",
    "\n",
    "    Modifies the presentation and saves to `output_path` or overwrites original.\n",
    "    \"\"\"\n",
    "    try:\n",
    "        prs = Presentation(file_path)\n",
    "    except Exception as e:\n",
    "        raise IOError(f\"Unable to open file {file_path}: {e}\")\n",
    "\n",
    "    for slide in prs.slides:\n",
    "        for shape in slide.shapes:\n",
    "            if not shape.has_text_frame:\n",
    "                continue\n",
    "            for paragraph in shape.text_frame.paragraphs:\n",
    "                for run in paragraph.runs:\n",
    "                    if placeholder in run.text:\n",
    "                        run.text = run.text.replace(placeholder, replacement)\n",
    "                        run.font.size = Pt(5)\n",
    "\n",
    "    save_path = output_path or file_path\n",
    "    try:\n",
    "        prs.save(save_path)\n",
    "    except Exception as e:\n",
    "        raise IOError(f\"Unable to save updated file to {save_path}: {e}\")\n"
   ]
  },
  {
   "cell_type": "code",
   "execution_count": 39,
   "id": "7de6ac6d",
   "metadata": {},
   "outputs": [
    {
     "data": {
      "text/plain": [
       "'Company Profile – Tour Partner Group Limited\\nSources utilised:\\n(1) Companies House – “Tour Partner Group Limited, Annual Report & Financial Statements for the\\nyear-ended 31-Dec-22”, filed 29-Sep-23 (pdf)\\n(2) Tour Partner Group website – “About Us” page, accessed 07-Jun-24\\n--------------------------------------------------\\n1. Company Snapshot\\nPrimary Industry: Travel & Tourism\\nIncorporation Year: 2016\\nHeadquarters: London, United Kingdom\\nEmployees: 230 (FY22, Companies House filing, note 6)\\nOperational KPIs (FY22)\\n\\x7f Passengers handled: 350,000\\n\\x7f Bed-nights booked: 710,000\\n\\x7f Source markets served: 70+\\n(Sources: (1) Directors’ report & strategic review; (2) corporate website)\\n--------------------------------------------------\\n2. Business Overview (bullets only)\\n\\x7f Tour Partner Group Limited is an intermediate holding company that consolidates a portfolio of B2B\\ndestination management and group travel brands serving the UK & Ireland, the Nordics and\\nContinental Europe.\\n\\x7f The company, through subsidiaries such as Hotels & More, Irish Welcome Tours, Authentic Vacations\\nand Trans Nordic Tours, designs tailor-made tours for coach operators, tour operators and wholesalers\\nworldwide.\\n\\x7f It maintains a network of nine operational offices across six European countries, giving it strong\\non-the-ground contracting capabilities and local destination expertise.\\n\\x7f Tour Partner Group markets more than 5,000 hotel partners and leverages preferred rates to package\\nmulti-day itineraries covering accommodation, attractions, transport and guiding services.\\n\\x7f The company’s scale allows it to handle c. 350k passengers and to contract in excess of 700k\\nbed-nights annually, positioning it among the larger DMC platforms in Europe.\\n\\n\\x7f It reports that over 80 % of business is repeat custom, benefitting from long-term relationships with\\nNorth-American, Asian and European wholesale partners.\\n\\x7f The group continues to invest in proprietary booking technology aimed at shortening quotation times\\nand improving margin through dynamic pricing.\\n\\x7f It states that the 2023/24 strategic focus is margin recovery following Covid-19, alongside bolt-on\\nacquisitions that extend destination coverage or deepen source-market penetration.\\n(Source: (1) Strategic Report; (2) About-Us webpage)\\n--------------------------------------------------\\n3. Revenue Split – NOT DETECTED\\nThe FY22 annual report does not disclose segmental or geographic revenue information.\\n--------------------------------------------------\\n4. Key Stakeholders Table – NOT DETECTED\\nThe filed FY22 holding-company accounts are prepared under FRS 102 Section 1A and do not include\\na list of ultimate shareholders, detailed director biographies or any lender disclosures.\\n--------------------------------------------------\\n5. Financial Highlights – NOT DETECTED (Cash-flow statement absent)\\nThe FY22 statutory accounts are single-column holding-company statements prepared under the\\n“company-only” exemption and contain no consolidated profit & loss or cash-flow information.\\n--------------------------------------------------\\n6. Capital Structure – NOT DETECTED (No debt note)\\nThe FY22 accounts state that the company has no external bank borrowings and therefore do not\\nprovide a debt maturity schedule or covenant disclosures.\\n--------------------------------------------------\\nMaterial information gaps have been highlighted above in accordance with the instruction to flag absent\\n(i) segment/geographic revenue split, (ii) cash-flow statement, (iii) debt note and (iv)\\nshareholder/director disclosures.\\n'"
      ]
     },
     "execution_count": 39,
     "metadata": {},
     "output_type": "execute_result"
    }
   ],
   "source": [
    "from PyPDF2 import PdfReader\n",
    "\n",
    "reader = PdfReader('/Users/felipesilverio/Documents/GitHub/LangChainTest/output/company_profile_unicode.pdf')\n",
    "reader\n",
    "\n",
    "all_text = []\n",
    "for page_num, page in enumerate(reader.pages, start=1):\n",
    "    try:\n",
    "        text = page.extract_text() or ''\n",
    "    except Exception:\n",
    "        text = ''\n",
    "    all_text.append(text)\n",
    "\n",
    "pdf_retrieved = \"\\n\".join(all_text)\n",
    "pdf_retrieved"
   ]
  },
  {
   "cell_type": "code",
   "execution_count": 47,
   "id": "4251fa26",
   "metadata": {},
   "outputs": [],
   "source": [
    "ppt_path = '/Users/felipesilverio/Documents/GitHub/LangChainTest/try2.pptx'\n",
    "my_prompt = f\"\"\"\n",
    "The following text contains a series of text blocks that are separated by multiples - like:\n",
    "--------------------------------------------------------------------------------------------------------------------\n",
    "\n",
    "Bring me back only the code block relative to 1. Company Snapshot, and give me all the information in it in a single line but separated by |\n",
    "\n",
    "The text is:\n",
    "\n",
    "{pdf_retrieved}\n",
    "\"\"\"\n",
    "response = chain_with_sources.invoke(my_prompt)\n",
    "replace_placeholder_text('/Users/felipesilverio/Documents/GitHub/LangChainTest/backupppt.pptx', 'Company Snapshot', response['response'], ppt_path)\n",
    "\n",
    "my_prompt = f\"\"\"\n",
    "The following text contains a series of text blocks that are separated by multiples - like:\n",
    "--------------------------------------------------------------------------------------------------------------------\n",
    "\n",
    "Bring me back only the code block relative to Business Overview, and give me back exactly as is in the text.\n",
    "\n",
    "The text is:\n",
    "\n",
    "{pdf_retrieved}\n",
    "\"\"\"\n",
    "response = chain_with_sources.invoke(my_prompt)\n",
    "replace_placeholder_text('/Users/felipesilverio/Documents/GitHub/LangChainTest/backupppt.pptx', 'Business Overview Text', response['response'], ppt_path)\n"
   ]
  }
 ],
 "metadata": {
  "kernelspec": {
   "display_name": "Python 3",
   "language": "python",
   "name": "python3"
  },
  "language_info": {
   "codemirror_mode": {
    "name": "ipython",
    "version": 3
   },
   "file_extension": ".py",
   "mimetype": "text/x-python",
   "name": "python",
   "nbconvert_exporter": "python",
   "pygments_lexer": "ipython3",
   "version": "3.9.6"
  }
 },
 "nbformat": 4,
 "nbformat_minor": 5
}
